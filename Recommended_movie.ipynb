{
 "cells": [
  {
   "cell_type": "code",
   "execution_count": 17,
   "metadata": {},
   "outputs": [],
   "source": [
    "import pandas as pd\n",
    "popolar = pd.Series([\n",
    "'Uncharted',\n",
    "'The Batman',\n",
    "'Doctor Strange in the Multiverse of Madness',\n",
    "'The Adam Project',\n",
    "'The Lost City',\n",
    "'Operation Mincemeat',\n",
    "'The Worst Person in The World',\n",
    "'Black Panther: Wakanda Forever',\n",
    "'Moonfall',\n",
    "'The Northman'])"
   ]
  },
  {
   "cell_type": "markdown",
   "metadata": {},
   "source": [
    "popolar"
   ]
  },
  {
   "cell_type": "code",
   "execution_count": 11,
   "metadata": {},
   "outputs": [
    {
     "data": {
      "text/plain": [
       "0                                      Uncharted\n",
       "1                                     The Batman\n",
       "2    Doctor Strange in the Multiverse of Madness\n",
       "3                               The Adam Project\n",
       "4                                  The Lost City\n",
       "5                            Operation Mincemeat\n",
       "6                  The Worst Person in The World\n",
       "7                 Black Panther: Wakanda Forever\n",
       "8                                       Moonfall\n",
       "9                                   The Northman\n",
       "dtype: object"
      ]
     },
     "execution_count": 11,
     "metadata": {},
     "output_type": "execute_result"
    }
   ],
   "source": [
    "popolar"
   ]
  },
  {
   "cell_type": "code",
   "execution_count": 21,
   "metadata": {},
   "outputs": [],
   "source": [
    "popolar.index.name = 'movie_title'"
   ]
  },
  {
   "cell_type": "code",
   "execution_count": 22,
   "metadata": {},
   "outputs": [],
   "source": [
    "popolar.to_csv('popular_movies.csv',index=False)"
   ]
  },
  {
   "cell_type": "code",
   "execution_count": null,
   "metadata": {},
   "outputs": [],
   "source": []
  }
 ],
 "metadata": {
  "kernelspec": {
   "display_name": "Python 3",
   "language": "python",
   "name": "python3"
  },
  "language_info": {
   "codemirror_mode": {
    "name": "ipython",
    "version": 3
   },
   "file_extension": ".py",
   "mimetype": "text/x-python",
   "name": "python",
   "nbconvert_exporter": "python",
   "pygments_lexer": "ipython3",
   "version": "3.7.4"
  }
 },
 "nbformat": 4,
 "nbformat_minor": 2
}
